{
 "cells": [
  {
   "cell_type": "code",
   "execution_count": 23,
   "metadata": {},
   "outputs": [
    {
     "name": "stdout",
     "output_type": "stream",
     "text": [
      "     index                                          full_path  \\\n",
      "0      222  /home/czti/user_area/anuraag/FRB_team_A/FRB202...   \n",
      "1      220  /home/czti/user_area/anuraag/FRB_team_A/FRB202...   \n",
      "2      221  /home/czti/user_area/anuraag/FRB_team_A/FRB202...   \n",
      "3      223  /home/czti/user_area/anuraag/FRB_team_A/FRB202...   \n",
      "4      227  /home/czti/user_area/anuraag/FRB_team_A/FRB202...   \n",
      "..     ...                                                ...   \n",
      "227    124  /home/czti/user_area/anuraag/FRB_team_B/FRB202...   \n",
      "228     83  /home/czti/user_area/anuraag/FRB_team_B/FRB202...   \n",
      "229     82  /home/czti/user_area/anuraag/FRB_team_B/FRB202...   \n",
      "230     81  /home/czti/user_area/anuraag/FRB_team_B/FRB202...   \n",
      "231     80  /home/czti/user_area/anuraag/FRB_team_B/FRB202...   \n",
      "\n",
      "                                      filename team       frbname  \\\n",
      "0    snap_tbin_FRB20200913A_26822_0.01_czt.png    A  FRB20200913A   \n",
      "1     snap_tbin_FRB20200913A_26822_1.0_czt.png    A  FRB20200913A   \n",
      "2    snap_tbin_FRB20200913A_26822_10.0_czt.png    A  FRB20200913A   \n",
      "3     snap_tbin_FRB20200913A_26822_0.1_czt.png    A  FRB20200913A   \n",
      "4    snap_tbin_FRB20200913B_26823_10.0_czt.png    A  FRB20200913B   \n",
      "..                                         ...  ...           ...   \n",
      "227   snap_tbin_FRB20200919B_26917_1.0_czt.png    B  FRB20200919B   \n",
      "228  snap_tbin_FRB20200919C_26917_0.01_czt.png    B  FRB20200919C   \n",
      "229   snap_tbin_FRB20200919C_26917_0.1_czt.png    B  FRB20200919C   \n",
      "230  snap_tbin_FRB20200919C_26917_10.0_czt.png    B  FRB20200919C   \n",
      "231   snap_tbin_FRB20200919C_26917_1.0_czt.png    B  FRB20200919C   \n",
      "\n",
      "              title  \n",
      "0    A_FRB20200913A  \n",
      "1    A_FRB20200913A  \n",
      "2    A_FRB20200913A  \n",
      "3    A_FRB20200913A  \n",
      "4    A_FRB20200913B  \n",
      "..              ...  \n",
      "227  B_FRB20200919B  \n",
      "228  B_FRB20200919C  \n",
      "229  B_FRB20200919C  \n",
      "230  B_FRB20200919C  \n",
      "231  B_FRB20200919C  \n",
      "\n",
      "[232 rows x 6 columns]\n"
     ]
    }
   ],
   "source": [
    "import pandas as pd\n",
    "import os\n",
    "file_list = pd.read_csv('png.txt', sep='\\t', header=None, names=['full_path'])\n",
    "n_files = file_list.shape[0]\n",
    "file_list['filename'] = file_list.apply(lambda x: os.path.basename(x.full_path), axis=1)\n",
    "pathsep = os.path.sep\n",
    "file_list['team'] = file_list.apply(lambda x: os.path.dirname(x.full_path).split(pathsep)[5][-1:], axis=1)\n",
    "file_list['frbname'] = file_list.apply(lambda x: os.path.dirname(x['full_path']).split(pathsep)[6], axis=1)\n",
    "file_list['title'] = file_list.apply(lambda x: x['team'] + '_' + x['frbname'], axis=1)\n",
    "file_list.sort_values(by='title', inplace=True)\n",
    "file_list.reset_index(inplace=True)\n",
    "print(file_list)"
   ]
  },
  {
   "cell_type": "code",
   "execution_count": null,
   "metadata": {},
   "outputs": [
    {
     "name": "stdout",
     "output_type": "stream",
     "text": [
      "PDF saved at /home/czti/user_area/anuraag/merged_frb_lc.pdf\n"
     ]
    }
   ],
   "source": [
    "# import os\n",
    "import cv2\n",
    "import matplotlib.pyplot as plt\n",
    "from matplotlib.backends.backend_pdf import PdfPages\n",
    "\n",
    "# Output PDF path\n",
    "output = '/home/czti/user_area/anuraag/FRB_report/merged_frb_lc.pdf'\n",
    "\n",
    "# Sort the file paths by filename\n",
    "# sorted_files = sorted(file[0], key=lambda x: os.path.basename(x))\n",
    "[index]\n",
    "# Create a multi-page PDF\n",
    "with PdfPages(output) as pdf:\n",
    "    for page_start in range(0, n_files, 20):  # Process 20 images per page\n",
    "        fig, axes = plt.subplots(5, 4, figsize=(8.5, 11))  # Create a  grid\n",
    "        axes = axes.flatten()  # Flatten the grid for easier indexing\n",
    "\n",
    "        for i, ax in enumerate(axes):\n",
    "            index = page_start + i\n",
    "            if index < n_files:\n",
    "                # path = sorted_files[index]\n",
    "                # print(page_start, index, path)\n",
    "                img = cv2.imread(file_list.iloc[index]['full_path'])\n",
    "                # Resize image to a higher resolution\n",
    "                img = cv2.resize(img, (img.shape[1]*2, img.shape[0]*2), interpolation=cv2.INTER_CUBIC)\n",
    "\n",
    "                img = cv2.cvtColor(img, cv2.COLOR_BGR2RGB)\n",
    "                \n",
    "                # Display the image\n",
    "                ax.imshow(img)\n",
    "                ax.set_title(file_list.iloc[index]['title'], fontsize=8)  \n",
    "                ax.axis('off')  # Hide axes\n",
    "            else:\n",
    "                ax.axis('off')  # Hide unused subplots\n",
    "\n",
    "        plt.tight_layout()  \n",
    "        pdf.savefig(fig, dpi=300)  \n",
    "        plt.close(fig)  \n",
    "\n",
    "print(f\"PDF saved at {output}\")"
   ]
  },
  {
   "cell_type": "code",
   "execution_count": null,
   "metadata": {},
   "outputs": [],
   "source": []
  }
 ],
 "metadata": {
  "kernelspec": {
   "display_name": "venv",
   "language": "python",
   "name": "python3"
  },
  "language_info": {
   "codemirror_mode": {
    "name": "ipython",
    "version": 3
   },
   "file_extension": ".py",
   "mimetype": "text/x-python",
   "name": "python",
   "nbconvert_exporter": "python",
   "pygments_lexer": "ipython3",
   "version": "3.10.12"
  }
 },
 "nbformat": 4,
 "nbformat_minor": 2
}

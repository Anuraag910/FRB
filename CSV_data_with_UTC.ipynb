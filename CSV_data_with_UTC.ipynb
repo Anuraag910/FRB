{
 "cells": [
  {
   "cell_type": "code",
   "execution_count": 40,
   "metadata": {},
   "outputs": [],
   "source": [
    "import pandas as pd\n",
    "from astropy.time import Time\n",
    "from itertools import cycle"
   ]
  },
  {
   "cell_type": "code",
   "execution_count": 41,
   "metadata": {},
   "outputs": [],
   "source": [
    "# Corrected file path with .csv extension\n",
    "file = r\"/home/arya/Downloads/B_team_coords_MJDs.csv\"\n",
    "\n",
    "# Read the CSV file\n",
    "df = pd.read_csv(file)\n"
   ]
  },
  {
   "cell_type": "code",
   "execution_count": 42,
   "metadata": {},
   "outputs": [
    {
     "data": {
      "text/html": [
       "<div>\n",
       "<style scoped>\n",
       "    .dataframe tbody tr th:only-of-type {\n",
       "        vertical-align: middle;\n",
       "    }\n",
       "\n",
       "    .dataframe tbody tr th {\n",
       "        vertical-align: top;\n",
       "    }\n",
       "\n",
       "    .dataframe thead th {\n",
       "        text-align: right;\n",
       "    }\n",
       "</style>\n",
       "<table border=\"1\" class=\"dataframe\">\n",
       "  <thead>\n",
       "    <tr style=\"text-align: right;\">\n",
       "      <th></th>\n",
       "      <th>Index</th>\n",
       "      <th>RA</th>\n",
       "      <th>DEC</th>\n",
       "      <th>TOA</th>\n",
       "    </tr>\n",
       "  </thead>\n",
       "  <tbody>\n",
       "    <tr>\n",
       "      <th>0</th>\n",
       "      <td>0</td>\n",
       "      <td>RA: 190.82262499999987</td>\n",
       "      <td>DEC: -63.905138888888885</td>\n",
       "      <td>MJD TOA: 59105.19956770833</td>\n",
       "    </tr>\n",
       "    <tr>\n",
       "      <th>1</th>\n",
       "      <td>1</td>\n",
       "      <td>RA: 190.8198333333333</td>\n",
       "      <td>DEC: -64.87469444444444</td>\n",
       "      <td>MJD TOA: 59105.199738564814</td>\n",
       "    </tr>\n",
       "    <tr>\n",
       "      <th>2</th>\n",
       "      <td>2</td>\n",
       "      <td>RA: 189.85924999999997</td>\n",
       "      <td>DEC: -64.14383333333335</td>\n",
       "      <td>MJD TOA: 59105.19886953704</td>\n",
       "    </tr>\n",
       "    <tr>\n",
       "      <th>3</th>\n",
       "      <td>3</td>\n",
       "      <td>RA: 191.77629166666665</td>\n",
       "      <td>DEC: -63.654444444444444</td>\n",
       "      <td>MJD TOA: 59105.1968799537</td>\n",
       "    </tr>\n",
       "    <tr>\n",
       "      <th>4</th>\n",
       "      <td>4</td>\n",
       "      <td>RA: 237.60416666666666</td>\n",
       "      <td>DEC: -46.17219444444445</td>\n",
       "      <td>MJD TOA: 59105.22789008102</td>\n",
       "    </tr>\n",
       "  </tbody>\n",
       "</table>\n",
       "</div>"
      ],
      "text/plain": [
       "   Index                      RA                         DEC  \\\n",
       "0      0  RA: 190.82262499999987    DEC: -63.905138888888885   \n",
       "1      1   RA: 190.8198333333333     DEC: -64.87469444444444   \n",
       "2      2  RA: 189.85924999999997     DEC: -64.14383333333335   \n",
       "3      3  RA: 191.77629166666665    DEC: -63.654444444444444   \n",
       "4      4  RA: 237.60416666666666     DEC: -46.17219444444445   \n",
       "\n",
       "                            TOA  \n",
       "0    MJD TOA: 59105.19956770833  \n",
       "1   MJD TOA: 59105.199738564814  \n",
       "2    MJD TOA: 59105.19886953704  \n",
       "3     MJD TOA: 59105.1968799537  \n",
       "4    MJD TOA: 59105.22789008102  "
      ]
     },
     "execution_count": 42,
     "metadata": {},
     "output_type": "execute_result"
    }
   ],
   "source": [
    "df.head()"
   ]
  },
  {
   "cell_type": "code",
   "execution_count": 43,
   "metadata": {},
   "outputs": [],
   "source": [
    "# Function to generate a sequence of alphabet tags (A-Z, AA-ZZ, etc.)\n",
    "def generate_alphabet_sequence():\n",
    "    alphabet = \"ABCDEFGHIJKLMNOPQRSTUVWXYZ\"\n",
    "    for size in range(1, 4):  # Extend to 3-letter combinations if needed\n",
    "        for combo in product(alphabet, repeat=size):\n",
    "            yield \"\".join(combo)"
   ]
  },
  {
   "cell_type": "code",
   "execution_count": 44,
   "metadata": {},
   "outputs": [
    {
     "name": "stderr",
     "output_type": "stream",
     "text": [
      "/tmp/ipykernel_757504/114945874.py:17: DeprecationWarning: DataFrameGroupBy.apply operated on the grouping columns. This behavior is deprecated, and in a future version of pandas the grouping columns will be excluded from the operation. Either pass `include_groups=False` to exclude the groupings or explicitly select the grouping columns after groupby to silence this warning.\n",
      "  df['Name'] = df.groupby('DATE', group_keys=False).apply(assign_alphabet_sequence)\n"
     ]
    }
   ],
   "source": [
    "# Clean the RA and DEC columns by removing the text prefix\n",
    "# and converting the values to float with 8 decimal places\n",
    "df['RA'] = df['RA'].str.extract(r'([-+]?\\d*\\.\\d+)').astype(float).round(8)\n",
    "df['DEC'] = df['DEC'].str.extract(r'([-+]?\\d*\\.\\d+)').astype(float).round(8)\n",
    "\n",
    "# Extract the MJD values from the `TOA` column\n",
    "df['MJD'] = df['TOA'].str.extract(r'(\\d+\\.\\d+)').astype(float)\n",
    "\n",
    "# Convert MJD to UTC using astropy\n",
    "times = Time(df['MJD'], format='mjd')\n",
    "df['UTC TOA'] = times.iso  # Convert to ISO format for readability\n",
    "\n",
    "# Extract date part from UTC TOA and format it as YYYYMMDD\n",
    "df['DATE'] = df['UTC TOA'].str[:10].str.replace('-', '')  # Remove hyphens\n",
    "\n",
    "# Create the 'Name' column in the format ARYAYYYYMMDD\n",
    "df['Name'] = df.groupby('DATE', group_keys=False).apply(assign_alphabet_sequence)\n",
    "\n",
    "\n",
    "# Drop the intermediate DATE column\n",
    "df = df.drop(columns=['TOA', 'DATE'])\n",
    "\n",
    "# Rearrange the column order\n",
    "df = df[['Name', 'RA', 'DEC', 'MJD', 'UTC TOA']]\n"
   ]
  },
  {
   "cell_type": "code",
   "execution_count": 48,
   "metadata": {},
   "outputs": [
    {
     "data": {
      "text/plain": [
       "<bound method NDFrame.head of     Index         RA       DEC           MJD                  UTC TOA  \\\n",
       "0       0  190.82262 -63.90514  59105.199568  2020-09-13 04:47:22.650   \n",
       "1       1  190.81983 -64.87469  59105.199739  2020-09-13 04:47:37.412   \n",
       "2       2  189.85925 -64.14383  59105.198870  2020-09-13 04:46:22.328   \n",
       "3       3  191.77629 -63.65444  59105.196880  2020-09-13 04:43:30.428   \n",
       "4       4  237.60417 -46.17219  59105.227890  2020-09-13 05:28:09.703   \n",
       "..    ...        ...       ...           ...                      ...   \n",
       "69     69  326.98571 -80.10400  59110.542022  2020-09-18 13:00:30.683   \n",
       "70     70  334.45992 -80.32714  59110.543747  2020-09-18 13:02:59.757   \n",
       "71     71  333.59571  -8.14019  59111.476835  2020-09-19 11:26:38.577   \n",
       "72     72  329.39829 -80.84278  59111.587025  2020-09-19 14:05:18.995   \n",
       "73     73  326.84112 -80.58811  59111.588913  2020-09-19 14:08:02.106   \n",
       "\n",
       "             Name  \n",
       "0   ARYA20200913A  \n",
       "1   ARYA20200913B  \n",
       "2   ARYA20200913C  \n",
       "3   ARYA20200913D  \n",
       "4   ARYA20200913E  \n",
       "..            ...  \n",
       "69  ARYA20200918E  \n",
       "70  ARYA20200918F  \n",
       "71  ARYA20200919A  \n",
       "72  ARYA20200919B  \n",
       "73  ARYA20200919C  \n",
       "\n",
       "[74 rows x 6 columns]>"
      ]
     },
     "execution_count": 48,
     "metadata": {},
     "output_type": "execute_result"
    }
   ],
   "source": [
    "# Display the first few rows to verify\n",
    "df.head"
   ]
  },
  {
   "cell_type": "code",
   "execution_count": 49,
   "metadata": {},
   "outputs": [],
   "source": [
    "output_file = r\"/home/arya/Downloads/B_team_coords_MJDs_with_UTC.csv\"\n",
    "df.to_csv(output_file, index=False)\n"
   ]
  },
  {
   "cell_type": "code",
   "execution_count": null,
   "metadata": {},
   "outputs": [],
   "source": []
  }
 ],
 "metadata": {
  "kernelspec": {
   "display_name": "cube",
   "language": "python",
   "name": "python3"
  },
  "language_info": {
   "codemirror_mode": {
    "name": "ipython",
    "version": 3
   },
   "file_extension": ".py",
   "mimetype": "text/x-python",
   "name": "python",
   "nbconvert_exporter": "python",
   "pygments_lexer": "ipython3",
   "version": "3.10.14"
  }
 },
 "nbformat": 4,
 "nbformat_minor": 2
}
